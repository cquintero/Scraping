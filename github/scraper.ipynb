{
 "metadata": {
  "language_info": {
   "codemirror_mode": {
    "name": "ipython",
    "version": 3
   },
   "file_extension": ".py",
   "mimetype": "text/x-python",
   "name": "python",
   "nbconvert_exporter": "python",
   "pygments_lexer": "ipython3",
   "version": "3.8.5-final"
  },
  "orig_nbformat": 2,
  "kernelspec": {
   "name": "python_defaultSpec_1600807284634",
   "display_name": "Python 3.8.5 64-bit ('scraping': conda)"
  }
 },
 "nbformat": 4,
 "nbformat_minor": 2,
 "cells": [
  {
   "cell_type": "code",
   "execution_count": 5,
   "metadata": {
    "tags": []
   },
   "outputs": [],
   "source": [
    "import json\n",
    "import requests\n",
    "import time\n",
    "import csv\n",
    "\n",
    "user = 'cquintero'\n",
    "token = '627404864b233fc537f9cf73a900fd364677ed0d'\n",
    "gh_session = requests.Session()\n",
    "gh_session.auth = (user, token)\n",
    "\n",
    "with open('usernames.csv') as usernames:\n",
    "  reader = list(csv.reader(usernames))\n",
    "  listofusernames = [item for sublist in reader for item in sublist]\n",
    "\n",
    "def scrapeGithub(listofusernames):\n",
    "  jsonlist = []\n",
    "  for username in listofusernames:\n",
    "    UserURL = 'https://api.github.com/users/{}'.format(username)\n",
    "    UserData = gh_session.get(UserURL).json()\n",
    "    #print(UserData)\n",
    "    jsonlist.append(UserData)\n",
    "    #time.sleep(1)\n",
    "  return jsonlist\n",
    "\n",
    "scraped_profiles = scrapeGithub(listofusernames)\n",
    "\n",
    "with open('scraped_profiles.json', 'w') as fout:\n",
    "    json.dump(scraped_profiles , fout)\n"
   ]
  },
  {
   "cell_type": "code",
   "execution_count": 4,
   "metadata": {},
   "outputs": [
    {
     "output_type": "execute_result",
     "data": {
      "text/plain": "'{\"resources\":{\"core\":{\"limit\":5000,\"used\":5,\"remaining\":4995,\"reset\":1600808306},\"search\":{\"limit\":30,\"used\":0,\"remaining\":30,\"reset\":1600808131},\"graphql\":{\"limit\":5000,\"used\":0,\"remaining\":5000,\"reset\":1600811671},\"integration_manifest\":{\"limit\":5000,\"used\":0,\"remaining\":5000,\"reset\":1600811671},\"source_import\":{\"limit\":100,\"used\":0,\"remaining\":100,\"reset\":1600808131},\"code_scanning_upload\":{\"limit\":500,\"used\":0,\"remaining\":500,\"reset\":1600811671}},\"rate\":{\"limit\":5000,\"used\":5,\"remaining\":4995,\"reset\":1600808306}}'"
     },
     "metadata": {},
     "execution_count": 4
    }
   ],
   "source": [
    "import requests\n",
    "user = 'cquintero'\n",
    "token = '627404864b233fc537f9cf73a900fd364677ed0d'\n",
    "gh_session = requests.Session()\n",
    "gh_session.auth = (user, token)\n",
    "gh_session.get('https://api.github.com/rate_limit').json"
   ]
  },
  {
   "cell_type": "code",
   "execution_count": null,
   "metadata": {},
   "outputs": [],
   "source": []
  }
 ]
}