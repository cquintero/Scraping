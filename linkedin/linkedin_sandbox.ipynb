{
 "metadata": {
  "language_info": {
   "codemirror_mode": {
    "name": "ipython",
    "version": 3
   },
   "file_extension": ".py",
   "mimetype": "text/x-python",
   "name": "python",
   "nbconvert_exporter": "python",
   "pygments_lexer": "ipython3",
   "version": "3.8.5-final"
  },
  "orig_nbformat": 2,
  "kernelspec": {
   "name": "Python 3.8.5 64-bit ('scraping': conda)",
   "display_name": "Python 3.8.5 64-bit ('scraping': conda)",
   "metadata": {
    "interpreter": {
     "hash": "a6b2acc29ae08e51f27b47f047b4362b9049d19c07cb7b28a18a04dea7de4fa3"
    }
   }
  }
 },
 "nbformat": 4,
 "nbformat_minor": 2,
 "cells": [
  {
   "cell_type": "code",
   "execution_count": 15,
   "metadata": {},
   "outputs": [],
   "source": [
    "import selenium\n",
    "import time\n",
    "from selenium import webdriver\n",
    "from selenium.webdriver.common.keys import Keys\n",
    "from selenium.webdriver.common.by import By\n",
    "from selenium.webdriver.support.ui import WebDriverWait\n",
    "from selenium.webdriver.support import expected_conditions as EC\n",
    "\n",
    "\"\"\"\n",
    "# Project Goals: \n",
    "# Learn about OOP\n",
    "# Replicate PhantomBuster functionality\n",
    "- Take in a Linkedin company URL and scrape the page for: name, description, domain, location, employee count, year founded, growth rate, etc\n",
    "- Take in a Linkedin profile URL and scrape all major attributes\n",
    "\n",
    "# Questions: \n",
    "- How to think about structuring the project? (classes, data structures, etc)\n",
    "\"\"\"\n",
    "\n",
    "driver = webdriver.Chrome('/Users/chrisquintero/Documents/Scraping/linkedin_scraper/linkedin_scraper/drivers/chromedriver')\n",
    "driver.get('https://www.linkedin.com/company/andela/')\n",
    "\n",
    "#EC.visibility_of_element_located(By.)\n",
    "\n",
    "\n",
    "#EC.Visibility of element located.\n",
    "\n",
    "#Main file\n",
    "\n",
    "Class Linkedin Scraper(self, )\n",
    "    #func 1\n",
    "    #func 2\n",
    "\n",
    "#database file\n",
    "\n",
    "\n",
    "try:\n",
    "    name = driver.find_element_by_class_name(\"top-card-layout__title\").text\n",
    "except:\n",
    "    #log no name\n",
    "    # name = ['']    \n",
    "headline = driver.find_element_by_class_name(\"top-card-layout__second-subline\").text\n",
    "about_us = driver.find_element_by_class_name(\"about-us__description\").text\n",
    "website = driver.find_element_by_class_name(\"about-us__link\").text\n",
    "employees = driver.find_element_by_class_name(\"top-card__right-column-link\").text.split(' ')[2]\n",
    "info_keys = driver.find_elements_by_class_name(\"basic-info-item__term\")\n",
    "info_content = driver.find_elements_by_class_name(\"basic-info-item__description\")\n",
    "\n",
    "driver.quit()"
   ]
  },
  {
   "cell_type": "code",
   "execution_count": null,
   "metadata": {},
   "outputs": [],
   "source": [
    "driver = webdriver.Chrome('/Users/chrisquintero/Documents/Scraping/linkedin_scraper/linkedin_scraper/drivers/chromedriver')\n",
    "driver.get('https://learningsabbatical.com/profiles/list-of-learning-sabbaticals.html')\n",
    "iframe = driver.find_element_by_tag_name('iframe')\n",
    "driver.switch_to_frame(iframe)\n",
    "time.sleep(5)\n",
    "\n",
    "driver.find_element_by_class_name(\"quantumWizTextinputPaperinputInput\").send_keys(\"chrisquintero@gmail.com\")\n",
    "driver.find_element_by_class_name(\"quantumWizTextinputPapertextareaInput\").send_keys(\"https://learningsabbatical.com/\")\n",
    "driver.find_element_by_class_name(\"appsMaterialWizButtonPaperbuttonLabel\").click()\n",
    "\n",
    "#scrapy_selector = Selector(text = driver.page_source)\n",
    "#scrapy_selector.xpath('/html/body/header/div/div[1]/h1]') \n",
    "driver.quit()"
   ]
  }
 ]
}