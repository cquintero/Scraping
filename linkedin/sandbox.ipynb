{
 "metadata": {
  "language_info": {
   "codemirror_mode": {
    "name": "ipython",
    "version": 3
   },
   "file_extension": ".py",
   "mimetype": "text/x-python",
   "name": "python",
   "nbconvert_exporter": "python",
   "pygments_lexer": "ipython3",
   "version": "3.8.5-final"
  },
  "orig_nbformat": 2,
  "kernelspec": {
   "name": "Python 3.8.5 64-bit",
   "display_name": "Python 3.8.5 64-bit",
   "metadata": {
    "interpreter": {
     "hash": "a6b2acc29ae08e51f27b47f047b4362b9049d19c07cb7b28a18a04dea7de4fa3"
    }
   }
  }
 },
 "nbformat": 4,
 "nbformat_minor": 2,
 "cells": [
  {
   "cell_type": "code",
   "execution_count": 32,
   "metadata": {
    "tags": []
   },
   "outputs": [
    {
     "output_type": "error",
     "ename": "SyntaxError",
     "evalue": "invalid syntax (<ipython-input-32-27bd1e700e7c>, line 18)",
     "traceback": [
      "\u001b[0;36m  File \u001b[0;32m\"<ipython-input-32-27bd1e700e7c>\"\u001b[0;36m, line \u001b[0;32m18\u001b[0m\n\u001b[0;31m    email.send_keys(\"chrisquintero@gmail.com\")\u001b[0m\n\u001b[0m    ^\u001b[0m\n\u001b[0;31mSyntaxError\u001b[0m\u001b[0;31m:\u001b[0m invalid syntax\n"
     ]
    }
   ],
   "source": [
    "import selenium\n",
    "import scrapy\n",
    "import time\n",
    "from selenium import webdriver\n",
    "from scrapy.selector import Selector\n",
    "from selenium.webdriver.common.keys import Keys\n",
    "from selenium.webdriver.common.by import By\n",
    "from selenium.webdriver.support.ui import WebDriverWait\n",
    "from selenium.webdriver.support import expected_conditions\n",
    "\n",
    "driver = webdriver.Chrome('/Users/chrisquintero/Documents/Scraping/linkedin_scraper/linkedin_scraper/drivers/chromedriver')\n",
    "driver.get('https://learningsabbatical.com/profiles/list-of-learning-sabbaticals.html')\n",
    "iframe = driver.find_element_by_tag_name('iframe')\n",
    "driver.switch_to_frame(iframe)\n",
    "\n",
    "try:\n",
    "    email = WebDriverWait(driver, 10).until(expected_conditions.element_to_be_selected(By.CLASS_NAME, \"quantumWizTextinputPaperinputInput\"))\n",
    "    email.send_keys(\"chrisquintero@gmail.com\")\n",
    "    driver.find_element_by_class_name(\"quantumWizTextinputPapertextareaInput\").send_keys(\"https://learningsabbatical.com/\")\n",
    "    driver.find_element_by_class_name(\"appsMaterialWizButtonPaperbuttonLabel\").click()\n",
    "except:\n",
    "    time.sleep(2)\n",
    "\n",
    "\n",
    "\n",
    "#scrapy_selector = Selector(text = driver.page_source)\n",
    "#scrapy_selector.xpath('/html/body/header/div/div[1]/h1]') \n",
    "driver.quit()"
   ]
  },
  {
   "cell_type": "code",
   "execution_count": null,
   "metadata": {},
   "outputs": [],
   "source": []
  }
 ]
}